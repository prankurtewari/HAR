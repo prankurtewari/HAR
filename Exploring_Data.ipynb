{
 "cells": [
  {
   "cell_type": "markdown",
   "id": "proprietary-falls",
   "metadata": {},
   "source": [
    "# Exploratory Data Analysis\n"
   ]
  },
  {
   "cell_type": "code",
   "execution_count": 16,
   "id": "engaged-christopher",
   "metadata": {},
   "outputs": [],
   "source": [
    "import numpy as np\n",
    "import pandas as pd\n",
    "\n",
    "import matplotlib.pyplot as plt\n",
    "import matplotlib.cm as cm\n",
    "%matplotlib inline\n"
   ]
  },
  {
   "cell_type": "code",
   "execution_count": 17,
   "id": "convertible-mount",
   "metadata": {},
   "outputs": [],
   "source": [
    "train=pd.read_csv(\"train.csv\")\n",
    "test=pd.read_csv(\"test.csv\")"
   ]
  },
  {
   "cell_type": "markdown",
   "id": "raising-threshold",
   "metadata": {},
   "source": [
    "# shape of training and testing data "
   ]
  },
  {
   "cell_type": "code",
   "execution_count": 21,
   "id": "naval-devices",
   "metadata": {},
   "outputs": [
    {
     "name": "stdout",
     "output_type": "stream",
     "text": [
      "Shape of training data is:(7352, 563)\n",
      "Shape of test data is:(2947, 563)\n"
     ]
    }
   ],
   "source": [
    "print(\"Shape of training data is:{}\".format(train.shape))\n",
    "print(\"Shape of test data is:{}\".format(test.shape))"
   ]
  },
  {
   "cell_type": "markdown",
   "id": "preceding-booth",
   "metadata": {},
   "source": [
    "# Finding the Null values and removing them\n",
    "\n",
    "\n"
   ]
  },
  {
   "cell_type": "code",
   "execution_count": 23,
   "id": "military-value",
   "metadata": {},
   "outputs": [
    {
     "name": "stdout",
     "output_type": "stream",
     "text": [
      "Null values present in training data: False\n",
      "Null values present in testing data: False\n"
     ]
    }
   ],
   "source": [
    "print(\"Null values present in training data: {}\".format(train.isnull().values.any()))\n",
    "print(\"Null values present in testing data: {}\".format(test.isnull().values.any()))"
   ]
  },
  {
   "cell_type": "markdown",
   "id": "sitting-innocent",
   "metadata": {},
   "source": [
    "# Visualizing the data "
   ]
  },
  {
   "cell_type": "code",
   "execution_count": 25,
   "id": "stock-frame",
   "metadata": {},
   "outputs": [],
   "source": [
    "y_train = train.Activity\n",
    "X_train = train.drop(['subject', 'Activity'], axis=1)\n",
    "y_test = test.Activity\n",
    "X_test = test.drop(['subject', 'Activity'], axis=1)\n"
   ]
  },
  {
   "cell_type": "code",
   "execution_count": 26,
   "id": "active-above",
   "metadata": {},
   "outputs": [],
   "source": [
    "count_of_each_activity = np.array(y_train.value_counts())"
   ]
  },
  {
   "cell_type": "code",
   "execution_count": 27,
   "id": "imported-material",
   "metadata": {},
   "outputs": [],
   "source": [
    "activities = sorted(y_train.unique())"
   ]
  },
  {
   "cell_type": "code",
   "execution_count": 28,
   "id": "multiple-voluntary",
   "metadata": {},
   "outputs": [
    {
     "data": {
      "text/plain": [
       "(array([   0.,  200.,  400.,  600.,  800., 1000., 1200., 1400., 1600.]),\n",
       " [Text(0, 0, ''),\n",
       "  Text(0, 0, ''),\n",
       "  Text(0, 0, ''),\n",
       "  Text(0, 0, ''),\n",
       "  Text(0, 0, ''),\n",
       "  Text(0, 0, ''),\n",
       "  Text(0, 0, ''),\n",
       "  Text(0, 0, ''),\n",
       "  Text(0, 0, '')])"
      ]
     },
     "execution_count": 28,
     "metadata": {},
     "output_type": "execute_result"
    },
    {
     "data": {
      "image/png": "[encoded data removed]",
      "text/plain": [
       "<Figure size 720x432 with 1 Axes>"
      ]
     },
     "metadata": {
      "needs_background": "light"
     },
     "output_type": "display_data"
    }
   ],
   "source": [
    "colors = cm.rainbow(np.linspace(0, 1, 4))\n",
    "plt.figure(figsize=(10,6))\n",
    "plt.bar(activities,count_of_each_activity,width=0.3,color=colors)\n",
    "plt.xticks(rotation=45,fontsize=12)\n",
    "plt.yticks(rotation=45,fontsize=12)"
   ]
  },
  {
   "cell_type": "code",
   "execution_count": null,
   "id": "piano-alliance",
   "metadata": {},
   "outputs": [],
   "source": []
  },
  {
   "cell_type": "code",
   "execution_count": null,
   "id": "innocent-bubble",
   "metadata": {},
   "outputs": [],
   "source": []
  },
  {
   "cell_type": "code",
   "execution_count": null,
   "id": "noticed-waterproof",
   "metadata": {},
   "outputs": [],
   "source": []
  },
  {
   "cell_type": "code",
   "execution_count": null,
   "id": "eleven-canvas",
   "metadata": {},
   "outputs": [],
   "source": []
  }
 ],
 "metadata": {
  "kernelspec": {
   "display_name": "Python 3",
   "language": "python",
   "name": "python3"
  },
  "language_info": {
   "codemirror_mode": {
    "name": "ipython",
    "version": 3
   },
   "file_extension": ".py",
   "mimetype": "text/x-python",
   "name": "python",
   "nbconvert_exporter": "python",
   "pygments_lexer": "ipython3",
   "version": "3.9.1"
  }
 },
 "nbformat": 4,
 "nbformat_minor": 5
}
